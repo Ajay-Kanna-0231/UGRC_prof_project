{
 "cells": [
  {
   "cell_type": "code",
   "execution_count": 1,
   "metadata": {},
   "outputs": [],
   "source": [
    "from selenium import webdriver\n",
    "from selenium.webdriver.chrome.service import Service\n",
    "from selenium.webdriver.chrome.options import Options\n",
    "from selenium.webdriver.common.by import By\n",
    "from selenium.webdriver.support.ui import WebDriverWait\n",
    "from selenium.webdriver.support import expected_conditions as EC\n",
    "from bs4 import BeautifulSoup\n",
    "import time\n",
    "import pandas as pd"
   ]
  },
  {
   "cell_type": "code",
   "execution_count": 2,
   "metadata": {},
   "outputs": [],
   "source": [
    "driver = webdriver.Chrome()\n",
    "\n",
    "driver.get(\"https://www.ncbi.nlm.nih.gov/pmc/articles/pmid/38800010/\")\n",
    "time.sleep(10)\n",
    "\n",
    "html = driver.page_source\n",
    "soup = BeautifulSoup(html, 'html.parser')"
   ]
  },
  {
   "cell_type": "code",
   "execution_count": 3,
   "metadata": {},
   "outputs": [
    {
     "name": "stdout",
     "output_type": "stream",
     "text": [
      "                                           Treatment  \\\n",
      "0                                NC (untreated mice)   \n",
      "1                               PC (UV-induced mice)   \n",
      "2                     VC (positive control+base gel)   \n",
      "3                    CC (positive control+sun block)   \n",
      "4  SC1 (positive control+secretome gel topically ...   \n",
      "\n",
      "  RNA concentration\\n\\n(ng/ml) RNA purity \\n\\n(λ260/λ280 nm)  \n",
      "0                        43.62                        2.3966  \n",
      "1                       132.74                        2.0694  \n",
      "2                       100.98                        2.0752  \n",
      "3                       170.48                        2.0686  \n",
      "4                   53.4292.72                  2.10342.0237  \n",
      "  Gene symbols  \\\n",
      "0      β-Actin   \n",
      "1       TGF-β1   \n",
      "2        IL-18   \n",
      "3        IL-10   \n",
      "\n",
      "  Primer sequence (5’ - 3’) \\n\\nupper strand: forward\\n\\nlower strand: reverse  \\\n",
      "0  5’-AAGATCAAGATCATTGCTCCTCC-3’5’-TAACAGTCCGCCTA...                             \n",
      "1  5’- AACCAAGGAGACGGAATACAG-3’5’- TGGAGCTGAAGCAA...                             \n",
      "2  5’- GAAGTGATAGCAGTCCCA-3’5’- AGCTAAAATCAGCAAAG...                             \n",
      "3  5’- GAAGACAATAACTGCACCCA-3’5’- AACCCAAGTAACCCT...                             \n",
      "\n",
      "  Product size\\n\\n(bp) Annealing\\n\\n(\\n0\\nC)  \\\n",
      "0                  164                    57   \n",
      "1                  241                    60   \n",
      "2                  258                    58   \n",
      "3                  163                    58   \n",
      "\n",
      "                                          References  \n",
      "0  {\"type\":\"entrez-nucleotide\",\"attrs\":{\"text\":\"N...  \n",
      "1  {\"type\":\"entrez-nucleotide\",\"attrs\":{\"text\":\"N...  \n",
      "2  {\"type\":\"entrez-nucleotide\",\"attrs\":{\"text\":\"N...  \n",
      "3  {\"type\":\"entrez-nucleotide\",\"attrs\":{\"text\":\"N...  \n"
     ]
    }
   ],
   "source": [
    "p_tags = soup.find_all(['p', 'h1', 'h2', 'h3', 'h4', 'h5', 'h6'])\n",
    "text = ' '.join([p.get_text() for p in p_tags])\n",
    "\n",
    "tables = soup.find_all('table')\n",
    "for table in tables:\n",
    "    headers = [th.text.strip() for th in table.find_all('th')]\n",
    "    rows = []\n",
    "    for tr in table.find_all('tr'):\n",
    "        cells = tr.find_all('td')\n",
    "        if not cells:\n",
    "            continue\n",
    "        row = [cell.text.strip() for cell in cells]\n",
    "        rows.append(row)\n",
    "\n",
    "    df = pd.DataFrame(rows, columns=headers)\n",
    "    print(df)\n",
    "\n",
    "with open('extracted_text.txt', 'w', encoding='utf-8') as file:\n",
    "    file.write(text)\n",
    "\n",
    "driver.quit()"
   ]
  }
 ],
 "metadata": {
  "kernelspec": {
   "display_name": "Python 3",
   "language": "python",
   "name": "python3"
  },
  "language_info": {
   "codemirror_mode": {
    "name": "ipython",
    "version": 3
   },
   "file_extension": ".py",
   "mimetype": "text/x-python",
   "name": "python",
   "nbconvert_exporter": "python",
   "pygments_lexer": "ipython3",
   "version": "3.12.1"
  }
 },
 "nbformat": 4,
 "nbformat_minor": 2
}
